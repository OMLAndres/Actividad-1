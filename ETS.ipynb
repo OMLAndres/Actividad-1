{
  "nbformat": 4,
  "nbformat_minor": 0,
  "metadata": {
    "colab": {
      "name": "Untitled0.ipynb",
      "provenance": [],
      "authorship_tag": "ABX9TyPYi6onYISos/x67ELwx+fx",
      "include_colab_link": true
    },
    "kernelspec": {
      "name": "python3",
      "display_name": "Python 3"
    }
  },
  "cells": [
    {
      "cell_type": "markdown",
      "metadata": {
        "id": "view-in-github",
        "colab_type": "text"
      },
      "source": [
        "<a href=\"https://colab.research.google.com/github/OMLAndres/Actividad-1/blob/master/ETS.ipynb\" target=\"_parent\"><img src=\"https://colab.research.google.com/assets/colab-badge.svg\" alt=\"Open In Colab\"/></a>"
      ]
    },
    {
      "cell_type": "markdown",
      "metadata": {
        "id": "IXIQrkjwOqb5",
        "colab_type": "text"
      },
      "source": [
        "Generar una clase que se llame Persona, debe de tener como atributos\n",
        "\n",
        "-> Hombre o Mujer.\n",
        "\n",
        "-> Edad\n",
        "\n",
        "Generar una clase que se llame vivienda, debe de tener como atributos\n",
        "\n",
        "-> Habitantes (composición de Persona)\n",
        "\n",
        "-> Habitaciones\n",
        "\n",
        "-> Cajones de estacionamiento\n",
        "\n",
        "Generar una clase se llame Departamento que herede de vivienda\n",
        "\n",
        "-> Debe de tener como atributo el nivel o piso donde se ubica\n"
      ]
    },
    {
      "cell_type": "code",
      "metadata": {
        "id": "YpU04oU2O3WA",
        "colab_type": "code",
        "colab": {}
      },
      "source": [
        "class Persona():\n",
        "  def __init__(self,Genero,Edad):\n",
        "    self.Genero = Genero\n",
        "    self.Edad = Edad\n",
        "  def descripcion(self):   \n",
        "    descri = print(self.Genero + \" \" + self.Edad)   \n",
        "    return descri   \n",
        "  \n",
        "class Vivienda():  \n",
        "  def __init__(self,Habitante,Habitaciones,Caj_Esta):\n",
        "    Des = Persona.descripcion()\n",
        "    self.Habitante = Des\n",
        "    self.Habitaciones = Habitaciones\n",
        "    self.Caj_Esta = Caj_Esta\n",
        "\n",
        "class Departamento(Vivienda):\n",
        "  def __init__(self,Habitante,Habitaciones,Caj_Esta,Piso):\n",
        "    super().__init__(Habitante,Habitaciones,Caj_Esta)\n",
        "    self.Piso = Piso\n",
        "\n"
      ],
      "execution_count": 158,
      "outputs": []
    },
    {
      "cell_type": "markdown",
      "metadata": {
        "id": "2iEAoQLN7aRx",
        "colab_type": "text"
      },
      "source": [
        ""
      ]
    }
  ]
}